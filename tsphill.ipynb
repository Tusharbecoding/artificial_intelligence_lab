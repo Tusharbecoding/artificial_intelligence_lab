{
 "cells": [
  {
   "cell_type": "code",
   "execution_count": 2,
   "metadata": {},
   "outputs": [
    {
     "ename": "ValueError",
     "evalue": "min() arg is an empty sequence",
     "output_type": "error",
     "traceback": [
      "\u001b[0;31m---------------------------------------------------------------------------\u001b[0m",
      "\u001b[0;31mValueError\u001b[0m                                Traceback (most recent call last)",
      "Cell \u001b[0;32mIn[2], line 48\u001b[0m\n\u001b[1;32m     45\u001b[0m cities \u001b[38;5;241m=\u001b[39m [(\u001b[38;5;241m0\u001b[39m, \u001b[38;5;241m0\u001b[39m), (\u001b[38;5;241m1\u001b[39m, \u001b[38;5;241m2\u001b[39m), (\u001b[38;5;241m3\u001b[39m, \u001b[38;5;241m1\u001b[39m), (\u001b[38;5;241m5\u001b[39m, \u001b[38;5;241m3\u001b[39m), (\u001b[38;5;241m2\u001b[39m, \u001b[38;5;241m5\u001b[39m), (\u001b[38;5;241m4\u001b[39m, \u001b[38;5;241m4\u001b[39m), (\u001b[38;5;241m6\u001b[39m, \u001b[38;5;241m2\u001b[39m), (\u001b[38;5;241m7\u001b[39m, \u001b[38;5;241m0\u001b[39m)]\n\u001b[1;32m     46\u001b[0m tsp \u001b[38;5;241m=\u001b[39m TSP(cities)\n\u001b[0;32m---> 48\u001b[0m solution_path \u001b[38;5;241m=\u001b[39m \u001b[43mHillClimbingSearch\u001b[49m\u001b[43m(\u001b[49m\u001b[43m)\u001b[49m\u001b[38;5;241;43m.\u001b[39;49m\u001b[43mhill_climbing_search\u001b[49m\u001b[43m(\u001b[49m\u001b[43mtsp\u001b[49m\u001b[43m)\u001b[49m\n\u001b[1;32m     49\u001b[0m \u001b[38;5;28mprint\u001b[39m(\u001b[38;5;124m\"\u001b[39m\u001b[38;5;124mOptimal Path:\u001b[39m\u001b[38;5;124m\"\u001b[39m, solution_path)\n\u001b[1;32m     50\u001b[0m \u001b[38;5;28mprint\u001b[39m(\u001b[38;5;124m\"\u001b[39m\u001b[38;5;124mTotal Distance:\u001b[39m\u001b[38;5;124m\"\u001b[39m, tsp\u001b[38;5;241m.\u001b[39mevaluate_path(solution_path))\n",
      "Cell \u001b[0;32mIn[2], line 38\u001b[0m, in \u001b[0;36mHillClimbingSearch.hill_climbing_search\u001b[0;34m(self, tsp)\u001b[0m\n\u001b[1;32m     36\u001b[0m \u001b[38;5;28;01mwhile\u001b[39;00m \u001b[38;5;28;01mTrue\u001b[39;00m:\n\u001b[1;32m     37\u001b[0m     neighbors \u001b[38;5;241m=\u001b[39m tsp\u001b[38;5;241m.\u001b[39mget_neighbors(current_solution)\n\u001b[0;32m---> 38\u001b[0m     best_neighbor \u001b[38;5;241m=\u001b[39m \u001b[38;5;28;43mmin\u001b[39;49m\u001b[43m(\u001b[49m\u001b[43mneighbors\u001b[49m\u001b[43m,\u001b[49m\u001b[43m \u001b[49m\u001b[43mkey\u001b[49m\u001b[38;5;241;43m=\u001b[39;49m\u001b[43mtsp\u001b[49m\u001b[38;5;241;43m.\u001b[39;49m\u001b[43mevaluate_path\u001b[49m\u001b[43m)\u001b[49m\n\u001b[1;32m     39\u001b[0m     \u001b[38;5;28;01mif\u001b[39;00m tsp\u001b[38;5;241m.\u001b[39mevaluate_path(best_neighbor) \u001b[38;5;241m>\u001b[39m\u001b[38;5;241m=\u001b[39m current_cost:\n\u001b[1;32m     40\u001b[0m         \u001b[38;5;28;01mreturn\u001b[39;00m current_solution\n",
      "\u001b[0;31mValueError\u001b[0m: min() arg is an empty sequence"
     ]
    }
   ],
   "source": [
    "import random\n",
    "\n",
    "class TSP:\n",
    "    def __init__(self, cities):\n",
    "        self.cities = cities\n",
    "        self.num_cities = len(cities)\n",
    "\n",
    "    def calculate_distance(self, city1, city2):\n",
    "        return abs(city1[0] - city2[0]) + abs(city1[1] - city2[1])  # Manhattan distance\n",
    "\n",
    "    def evaluate_path(self, path):\n",
    "        total_cost = 0\n",
    "        for i in range(len(path) - 1):\n",
    "            total_cost += self.calculate_distance(path[i], path[i+1])\n",
    "        if len(path) >= 2:  # Ensure path has at least two cities\n",
    "            total_cost += self.calculate_distance(path[-1], path[0])  # Return to the starting city\n",
    "        return total_cost\n",
    "\n",
    "    def generate_random_solution(self):\n",
    "        return random.sample(self.cities, len(self.cities))\n",
    "\n",
    "    def get_neighbors(self, path):\n",
    "        neighbors = []\n",
    "        if len(path) < 2:\n",
    "            return neighbors  # Return empty list if path contains fewer than two cities\n",
    "        for i in range(len(path)):\n",
    "            for j in range(i + 1, len(path)):\n",
    "                neighbor = path[:i] + path[j:i-1:-1] + path[j+1:]\n",
    "                neighbors.append(neighbor)\n",
    "        return neighbors\n",
    "\n",
    "class HillClimbingSearch:\n",
    "\n",
    "    def hill_climbing_search(self, tsp):\n",
    "        current_solution = tsp.generate_random_solution()\n",
    "        current_cost = tsp.evaluate_path(current_solution)\n",
    "\n",
    "        while True:\n",
    "            neighbors = tsp.get_neighbors(current_solution)\n",
    "            if not neighbors:\n",
    "                return current_solution  # Return current solution if no neighbors are available\n",
    "            best_neighbor = min(neighbors, key=tsp.evaluate_path)\n",
    "            if tsp.evaluate_path(best_neighbor) >= current_cost:\n",
    "                return current_solution\n",
    "            current_solution = best_neighbor\n",
    "            current_cost = tsp.evaluate_path(best_neighbor)\n",
    "\n",
    "# Example usage\n",
    "cities = [(0, 0), (1, 2), (3, 1), (5, 3), (2, 5), (4, 4), (6, 2), (7, 0)]\n",
    "tsp = TSP(cities)\n",
    "\n",
    "solution_path = HillClimbingSearch().hill_climbing_search(tsp)\n",
    "print(\"Optimal Path:\", solution_path)\n",
    "print(\"Total Distance:\", tsp.evaluate_path(solution_path))\n"
   ]
  }
 ],
 "metadata": {
  "kernelspec": {
   "display_name": "Python 3",
   "language": "python",
   "name": "python3"
  },
  "language_info": {
   "codemirror_mode": {
    "name": "ipython",
    "version": 3
   },
   "file_extension": ".py",
   "mimetype": "text/x-python",
   "name": "python",
   "nbconvert_exporter": "python",
   "pygments_lexer": "ipython3",
   "version": "3.11.4"
  }
 },
 "nbformat": 4,
 "nbformat_minor": 2
}
