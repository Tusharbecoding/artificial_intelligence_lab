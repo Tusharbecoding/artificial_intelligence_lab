{
 "cells": [
  {
   "cell_type": "code",
   "execution_count": 1,
   "metadata": {},
   "outputs": [
    {
     "name": "stdout",
     "output_type": "stream",
     "text": [
      "Solution State: [1, 1, 0, 0]\n",
      "Total Weight: 9\n",
      "Total Value: 50\n"
     ]
    }
   ],
   "source": [
    "class Knapsack:\n",
    "    def __init__(self, capacity, items):\n",
    "        self.capacity = capacity\n",
    "        self.items = items\n",
    "\n",
    "    def evaluate(self, state):\n",
    "        total_weight = sum(state[i] * self.items[i][0] for i in range(len(state)))\n",
    "        total_value = sum(state[i] * self.items[i][1] for i in range(len(state)))\n",
    "        if total_weight > self.capacity:\n",
    "            return float('-inf')  # Penalize solutions violating capacity\n",
    "        return total_value\n",
    "\n",
    "    def generate_neighbors(self, state):\n",
    "        neighbors = []\n",
    "        for i in range(len(state)):\n",
    "            if state[i] == 0:\n",
    "                neighbor = list(state)\n",
    "                neighbor[i] = 1\n",
    "                neighbors.append(neighbor)\n",
    "        return neighbors\n",
    "\n",
    "class KnapsackSearch:\n",
    "\n",
    "    def hill_climbing_search(self, capacity, items):\n",
    "        knapsack = Knapsack(capacity, items)\n",
    "        current_state = [0] * len(items)\n",
    "        current_value = knapsack.evaluate(current_state)\n",
    "\n",
    "        while True:\n",
    "            neighbors = knapsack.generate_neighbors(current_state)\n",
    "            found_better_neighbor = False\n",
    "\n",
    "            for neighbor in neighbors:\n",
    "                neighbor_value = knapsack.evaluate(neighbor)\n",
    "                if neighbor_value > current_value:\n",
    "                    current_state = neighbor\n",
    "                    current_value = neighbor_value\n",
    "                    found_better_neighbor = True\n",
    "                    break\n",
    "\n",
    "            if not found_better_neighbor:\n",
    "                break\n",
    "\n",
    "        return current_state\n",
    "\n",
    "# Example usage\n",
    "capacity = 10\n",
    "items = [(5, 10), (4, 40), (6, 30), (3, 50)]\n",
    "\n",
    "solution_state = KnapsackSearch().hill_climbing_search(capacity, items)\n",
    "total_weight = sum(solution_state[i] * items[i][0] for i in range(len(solution_state)))\n",
    "total_value = sum(solution_state[i] * items[i][1] for i in range(len(solution_state)))\n",
    "\n",
    "print(\"Solution State:\", solution_state)\n",
    "print(\"Total Weight:\", total_weight)\n",
    "print(\"Total Value:\", total_value)\n"
   ]
  }
 ],
 "metadata": {
  "kernelspec": {
   "display_name": "Python 3",
   "language": "python",
   "name": "python3"
  },
  "language_info": {
   "codemirror_mode": {
    "name": "ipython",
    "version": 3
   },
   "file_extension": ".py",
   "mimetype": "text/x-python",
   "name": "python",
   "nbconvert_exporter": "python",
   "pygments_lexer": "ipython3",
   "version": "3.11.4"
  }
 },
 "nbformat": 4,
 "nbformat_minor": 2
}
