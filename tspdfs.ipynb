{
 "cells": [
  {
   "cell_type": "code",
   "execution_count": 1,
   "metadata": {},
   "outputs": [
    {
     "name": "stdout",
     "output_type": "stream",
     "text": [
      "Optimal Path: [(0, 0), (7, 0), (6, 2), (4, 4), (2, 5), (5, 3), (3, 1), (1, 2)]\n",
      "Total Distance: 32\n"
     ]
    }
   ],
   "source": [
    "class TSPNode:\n",
    "    def __init__(self, city, path, cost):\n",
    "        self.city = city\n",
    "        self.path = path\n",
    "        self.cost = cost\n",
    "\n",
    "    def __lt__(self, other):\n",
    "        return self.cost < other.cost\n",
    "\n",
    "class TSP:\n",
    "    def __init__(self, cities):\n",
    "        self.cities = cities\n",
    "        self.num_cities = len(cities)\n",
    "\n",
    "    def calculate_distance(self, city1, city2):\n",
    "        return abs(city1[0] - city2[0]) + abs(city1[1] - city2[1])  # Manhattan distance\n",
    "\n",
    "    def generate_next_states(self, current_node):\n",
    "        next_states = []\n",
    "        for city in self.cities:\n",
    "            if city not in current_node.path:\n",
    "                new_path = current_node.path + [city]\n",
    "                new_cost = current_node.cost + self.calculate_distance(current_node.city, city)\n",
    "                next_states.append(TSPNode(city, new_path, new_cost))\n",
    "        return next_states\n",
    "\n",
    "    def is_goal_state(self, state):\n",
    "        return len(state.path) == self.num_cities\n",
    "\n",
    "    def get_path_cost(self, path):\n",
    "        total_cost = 0\n",
    "        for i in range(len(path) - 1):\n",
    "            total_cost += self.calculate_distance(path[i], path[i+1])\n",
    "        total_cost += self.calculate_distance(path[-1], path[0])  # Return to the starting city\n",
    "        return total_cost\n",
    "\n",
    "class TSPSearch:\n",
    "\n",
    "    def dfs_search(self, tsp):\n",
    "        initial_node = TSPNode(tsp.cities[0], [tsp.cities[0]], 0)\n",
    "        stack = [initial_node]\n",
    "\n",
    "        while stack:\n",
    "            current_node = stack.pop()\n",
    "\n",
    "            if tsp.is_goal_state(current_node):\n",
    "                return current_node.path\n",
    "\n",
    "            for neighbor in tsp.generate_next_states(current_node):\n",
    "                stack.append(neighbor)\n",
    "\n",
    "        return None\n",
    "\n",
    "# Example usage\n",
    "cities = [(0, 0), (1, 2), (3, 1), (5, 3), (2, 5), (4, 4), (6, 2), (7, 0)]\n",
    "tsp = TSP(cities)\n",
    "\n",
    "solution_path = TSPSearch().dfs_search(tsp)\n",
    "if solution_path is not None:\n",
    "    print(\"Optimal Path:\", solution_path)\n",
    "    print(\"Total Distance:\", tsp.get_path_cost(solution_path))\n",
    "else:\n",
    "    print(\"DFS Search failed to find a solution.\")\n"
   ]
  }
 ],
 "metadata": {
  "kernelspec": {
   "display_name": "Python 3",
   "language": "python",
   "name": "python3"
  },
  "language_info": {
   "codemirror_mode": {
    "name": "ipython",
    "version": 3
   },
   "file_extension": ".py",
   "mimetype": "text/x-python",
   "name": "python",
   "nbconvert_exporter": "python",
   "pygments_lexer": "ipython3",
   "version": "3.11.4"
  }
 },
 "nbformat": 4,
 "nbformat_minor": 2
}
