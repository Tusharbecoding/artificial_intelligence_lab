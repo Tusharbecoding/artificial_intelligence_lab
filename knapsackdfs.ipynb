{
 "cells": [
  {
   "cell_type": "code",
   "execution_count": 1,
   "metadata": {},
   "outputs": [
    {
     "name": "stdout",
     "output_type": "stream",
     "text": [
      "Solution Path:\n",
      "(0, 0)\n",
      "(3, 50)\n"
     ]
    }
   ],
   "source": [
    "class KnapsackNode:\n",
    "    def __init__(self, weight, value, parent=None, action=0):\n",
    "        self.weight = weight\n",
    "        self.value = value\n",
    "        self.parent = parent\n",
    "        self.action = action\n",
    "\n",
    "    def __eq__(self, other):\n",
    "        return self.weight == other.weight and self.value == other.value\n",
    "\n",
    "    def __hash__(self):\n",
    "        return hash((self.weight, self.value))\n",
    "\n",
    "class Knapsack:\n",
    "    def __init__(self, capacity, items):\n",
    "        self.capacity = capacity\n",
    "        self.items = items\n",
    "\n",
    "    def generate_next_states(self, node):\n",
    "        next_states = []\n",
    "        for i, item in enumerate(self.items):\n",
    "            if i >= node.action:\n",
    "                weight, value = item\n",
    "                if node.weight + weight <= self.capacity:\n",
    "                    next_state = KnapsackNode(node.weight + weight, node.value + value, node, i)\n",
    "                    next_states.append(next_state)\n",
    "        return next_states\n",
    "\n",
    "    def is_goal_state(self, node):\n",
    "        return node.weight == self.capacity or node.action == len(self.items) - 1\n",
    "\n",
    "\n",
    "class KnapsackSearch:\n",
    "\n",
    "    def dfs_search(self, capacity, items):\n",
    "        knapsack = Knapsack(capacity, items)\n",
    "        initial_node = KnapsackNode(0, 0)\n",
    "        stack = [initial_node]\n",
    "\n",
    "        while stack:\n",
    "            current_node = stack.pop()\n",
    "\n",
    "            if knapsack.is_goal_state(current_node):\n",
    "                return self.get_path(current_node)\n",
    "\n",
    "            next_states = knapsack.generate_next_states(current_node)\n",
    "            stack.extend(next_states)\n",
    "\n",
    "        return None\n",
    "\n",
    "    def get_path(self, node):\n",
    "        path = []\n",
    "        while node:\n",
    "            path.append((node.weight, node.value))\n",
    "            node = node.parent\n",
    "        return path[::-1]\n",
    "\n",
    "\n",
    "# Example usage\n",
    "capacity = 10\n",
    "items = [(5, 10), (4, 40), (6, 30), (3, 50)]\n",
    "\n",
    "solution_path = KnapsackSearch().dfs_search(capacity, items)\n",
    "if solution_path is not None:\n",
    "    print(\"Solution Path:\")\n",
    "    for step in solution_path:\n",
    "        print(step)\n",
    "else:\n",
    "    print(\"DFS Search failed to find a solution.\")\n"
   ]
  }
 ],
 "metadata": {
  "kernelspec": {
   "display_name": "Python 3",
   "language": "python",
   "name": "python3"
  },
  "language_info": {
   "codemirror_mode": {
    "name": "ipython",
    "version": 3
   },
   "file_extension": ".py",
   "mimetype": "text/x-python",
   "name": "python",
   "nbconvert_exporter": "python",
   "pygments_lexer": "ipython3",
   "version": "3.11.4"
  }
 },
 "nbformat": 4,
 "nbformat_minor": 2
}
