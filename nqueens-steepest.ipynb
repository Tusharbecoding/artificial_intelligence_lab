{
 "cells": [
  {
   "cell_type": "code",
   "execution_count": 1,
   "metadata": {},
   "outputs": [
    {
     "name": "stdout",
     "output_type": "stream",
     "text": [
      "Steepest Hill Climbing failed to find a solution.\n"
     ]
    }
   ],
   "source": [
    "import random\n",
    "\n",
    "class NQueensNode:\n",
    "    def __init__(self, state, parent=None):\n",
    "        self.state = state\n",
    "        self.parent = parent\n",
    "        self.heuristic = self.calculate_heuristic()\n",
    "\n",
    "    def __eq__(self, other):\n",
    "        return self.state == other.state\n",
    "\n",
    "    def __hash__(self):\n",
    "        return hash(str(self.state))\n",
    "\n",
    "    def calculate_heuristic(self):\n",
    "        conflicts = 0\n",
    "        for i in range(len(self.state)):\n",
    "            for j in range(i + 1, len(self.state)):\n",
    "                if self.state[i] == self.state[j] or abs(self.state[i] - self.state[j]) == abs(i - j):\n",
    "                    conflicts += 1\n",
    "        return conflicts\n",
    "\n",
    "class NQueensProblem:\n",
    "    def __init__(self, N):\n",
    "        self.N = N\n",
    "\n",
    "    def generate_random_state(self):\n",
    "        return [random.randint(0, self.N - 1) for _ in range(self.N)]\n",
    "\n",
    "    def generate_neighbors(self, state):\n",
    "        neighbors = []\n",
    "        for i in range(self.N):\n",
    "            for j in range(self.N):\n",
    "                if j != state[i]:\n",
    "                    neighbor = list(state)\n",
    "                    neighbor[i] = j\n",
    "                    neighbors.append(neighbor)\n",
    "        return neighbors\n",
    "\n",
    "    def is_goal_state(self, state):\n",
    "        return NQueensNode(state).heuristic == 0\n",
    "\n",
    "class Search:\n",
    "\n",
    "    def steepest_hill_climbing(N):\n",
    "        problem = NQueensProblem(N)\n",
    "        current_node = NQueensNode(problem.generate_random_state())\n",
    "\n",
    "        while True:\n",
    "            neighbors = problem.generate_neighbors(current_node.state)\n",
    "            best_neighbor = min(neighbors, key=lambda x: NQueensNode(x).heuristic)\n",
    "            if NQueensNode(best_neighbor).heuristic >= current_node.heuristic:\n",
    "                if problem.is_goal_state(current_node.state):\n",
    "                    return Search.get_path(current_node)\n",
    "                else:\n",
    "                    return None\n",
    "            current_node = NQueensNode(best_neighbor, current_node)\n",
    "\n",
    "    def get_path(node):\n",
    "        path = []\n",
    "        while node:\n",
    "            path.append(node.state)\n",
    "            node = node.parent\n",
    "        return path[::-1]\n",
    "\n",
    "N = 8  # Example for 8-Queens problem\n",
    "solution_path = Search.steepest_hill_climbing(N)\n",
    "if solution_path is not None:\n",
    "    print(\"Solution Path:\")\n",
    "    for step in solution_path:\n",
    "        print(step)\n",
    "else:\n",
    "    print(\"Steepest Hill Climbing failed to find a solution.\")\n"
   ]
  }
 ],
 "metadata": {
  "kernelspec": {
   "display_name": "Python 3",
   "language": "python",
   "name": "python3"
  },
  "language_info": {
   "name": "python",
   "version": "3.11.4"
  }
 },
 "nbformat": 4,
 "nbformat_minor": 2
}
