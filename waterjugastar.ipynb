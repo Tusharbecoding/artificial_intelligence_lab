{
 "cells": [
  {
   "cell_type": "code",
   "execution_count": 8,
   "metadata": {},
   "outputs": [
    {
     "name": "stdout",
     "output_type": "stream",
     "text": [
      "No solution found.\n"
     ]
    }
   ],
   "source": [
    "from queue import PriorityQueue\n",
    "\n",
    "class State:\n",
    "    def __init__(self, jug_4, jug_3, cost=0):\n",
    "        self.jug_4 = jug_4\n",
    "        self.jug_3 = jug_3\n",
    "        self.cost = cost\n",
    "\n",
    "    def __eq__(self, other):\n",
    "        return self.jug_4 == other.jug_4 and self.jug_3 == other.jug_3\n",
    "\n",
    "    def __hash__(self):\n",
    "        return hash((self.jug_4, self.jug_3))\n",
    "\n",
    "    def __str__(self):\n",
    "        return f\"({self.jug_4}, {self.jug_3})\"\n",
    "\n",
    "def pour(state, from_jug, to_jug, max_to_jug):\n",
    "    amount_to_pour = min(getattr(state, from_jug), max_to_jug - getattr(state, to_jug))\n",
    "    new_state = State(state.jug_4, state.jug_3, state.cost + 1)\n",
    "    setattr(new_state, from_jug, getattr(state, from_jug) - amount_to_pour)\n",
    "    setattr(new_state, to_jug, getattr(state, to_jug) + amount_to_pour)\n",
    "    return new_state\n",
    "\n",
    "def heuristic(state):\n",
    "    # Estimate the minimum number of steps required to reach the goal state\n",
    "    return abs(2 - state.jug_4) + abs(0 - state.jug_3)\n",
    "\n",
    "def is_goal_state(state):\n",
    "    return state.jug_4 == 2\n",
    "\n",
    "def a_star_search(initial_state):\n",
    "    open_set = PriorityQueue()\n",
    "    open_set.put((0, initial_state))\n",
    "    came_from = {}\n",
    "    cost_so_far = {initial_state: 0}\n",
    "\n",
    "    while not open_set.empty():\n",
    "        _, current_state = open_set.get()\n",
    "\n",
    "        if is_goal_state(current_state):\n",
    "            path = []\n",
    "            while current_state in came_from:\n",
    "                path.append(current_state)\n",
    "                current_state = came_from[current_state]\n",
    "            path.append(initial_state)\n",
    "            return path[::-1]\n",
    "\n",
    "        for from_jug, to_jug in [('jug_4', 'jug_3'), ('jug_3', 'jug_4')]:\n",
    "            next_state = pour(current_state, from_jug, to_jug, 3 if to_jug == 'jug_3' else 4)\n",
    "            new_cost = cost_so_far[current_state] + 1\n",
    "            if next_state not in cost_so_far or new_cost < cost_so_far[next_state]:\n",
    "                cost_so_far[next_state] = new_cost\n",
    "                priority = new_cost + heuristic(next_state)\n",
    "                open_set.put((priority, next_state))\n",
    "                came_from[next_state] = current_state\n",
    "\n",
    "    return None\n",
    "\n",
    "initial_state = State(0, 0)\n",
    "solution_path = a_star_search(initial_state)\n",
    "\n",
    "if solution_path:\n",
    "    print(\"Solution Path:\")\n",
    "    for i, state in enumerate(solution_path):\n",
    "        print(f\"Step {i + 1}: {state}\")\n",
    "else:\n",
    "    print(\"No solution found.\")\n"
   ]
  }
 ],
 "metadata": {
  "kernelspec": {
   "display_name": "Python 3",
   "language": "python",
   "name": "python3"
  },
  "language_info": {
   "codemirror_mode": {
    "name": "ipython",
    "version": 3
   },
   "file_extension": ".py",
   "mimetype": "text/x-python",
   "name": "python",
   "nbconvert_exporter": "python",
   "pygments_lexer": "ipython3",
   "version": "3.11.4"
  }
 },
 "nbformat": 4,
 "nbformat_minor": 2
}
