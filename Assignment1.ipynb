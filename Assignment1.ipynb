{
  "nbformat": 4,
  "nbformat_minor": 0,
  "metadata": {
    "colab": {
      "provenance": []
    },
    "kernelspec": {
      "name": "python3",
      "display_name": "Python 3"
    },
    "language_info": {
      "name": "python"
    }
  },
  "cells": [
    {
      "cell_type": "code",
      "source": [
        "board = [' ' for x in range(10)]\n",
        "def printBoard(board):\n",
        "    print('   |   | ')\n",
        "    print(' ' + board[1] + ' | ' + board[2] + ' | ' + board[3])\n",
        "    print('   |   | ')\n",
        "    print('------------')\n",
        "    print('   |   | ')\n",
        "    print(' ' + board[4] + ' | ' + board[5] + ' | ' + board[6])\n",
        "    print('   |   | ')\n",
        "    print('------------')\n",
        "    print('   |   | ')\n",
        "    print(' ' + board[7] + ' | ' + board[8] + ' | ' + board[9])\n",
        "    print('   |   | ')"
      ],
      "metadata": {
        "id": "2R-bzviRGIiR"
      },
      "execution_count": null,
      "outputs": []
    },
    {
      "cell_type": "code",
      "source": [
        "printBoard(board)"
      ],
      "metadata": {
        "colab": {
          "base_uri": "https://localhost:8080/"
        },
        "id": "zaSp9PQYGMLT",
        "outputId": "f98fd406-7f80-494a-fcca-1e0c2b01a027"
      },
      "execution_count": null,
      "outputs": [
        {
          "output_type": "stream",
          "name": "stdout",
          "text": [
            "   |   | \n",
            "   |   |  \n",
            "   |   | \n",
            "------------\n",
            "   |   | \n",
            "   |   |  \n",
            "   |   | \n",
            "------------\n",
            "   |   | \n",
            "   |   |  \n",
            "   |   | \n"
          ]
        }
      ]
    },
    {
      "cell_type": "code",
      "source": [
        "def IsWinner(b,l):\n",
        "  return\n",
        "  (b[1]== l and b[2]==l and b[3]==l) or \\\n",
        "  (b[4]== l and b[5]==l and b[6]==l) or \\\n",
        "  (b[7]== l and b[8]==l and b[9]==l) or \\\n",
        "  (b[1]== l and b[4]==l and b[7]==l) or \\\n",
        "  (b[3]== l and b[6]==l and b[9]==l) or \\\n",
        "  (b[2]== l and b[5]==l and b[8]==l) or \\\n",
        "  (b[1]== l and b[5]==l and b[9]==l) or \\\n",
        "  (b[3]== l and b[5]==l and b[7]==l)"
      ],
      "metadata": {
        "id": "plkXnOdfIdCp"
      },
      "execution_count": null,
      "outputs": []
    },
    {
      "cell_type": "code",
      "source": [
        "def spaceIsFree(pos):\n",
        "    return board[pos] == ' '"
      ],
      "metadata": {
        "id": "6pkvler_JFOo"
      },
      "execution_count": null,
      "outputs": []
    },
    {
      "cell_type": "code",
      "source": [
        "def insertLetter(letter, pos):\n",
        "    board[pos] = letter"
      ],
      "metadata": {
        "id": "8wMcqPygJIxN"
      },
      "execution_count": null,
      "outputs": []
    },
    {
      "cell_type": "code",
      "source": [
        "def playerMove(symbol):\n",
        "  run = True\n",
        "  while run:\n",
        "    move = input(\"please select a position to enter the {sym} between 1 to 9\".\n",
        "    format(sym=symbol))\n",
        "    try:\n",
        "      move = int(move)\n",
        "      if move > 0 and move < 10:\n",
        "        if spaceIsFree(move):\n",
        "          run = False\n",
        "          insertLetter(symbol , move)\n",
        "        else:\n",
        "          print('Sorry, this space is occupied')\n",
        "      else:\n",
        "        print('please type a number between 1 and 9')\n",
        "    except:\n",
        "      print('Please type a number')"
      ],
      "metadata": {
        "id": "n920QgcxJLw-"
      },
      "execution_count": null,
      "outputs": []
    },
    {
      "cell_type": "code",
      "source": [
        "def boardFull():\n",
        "    return ' ' not in board[1:]"
      ],
      "metadata": {
        "id": "UmeY1lu8KE8W"
      },
      "execution_count": null,
      "outputs": []
    },
    {
      "cell_type": "code",
      "source": [
        "def main():\n",
        "    print(\"Welcome to Tic-Tac-Toe!\")\n",
        "    printBoard(board)\n",
        "\n",
        "    while not boardFull():\n",
        "        if not IsWinner(board, 'O'):\n",
        "            playerMove('O')\n",
        "            printBoard(board)\n",
        "            if IsWinner(board, 'O'):\n",
        "                print(\"Player O wins!\")\n",
        "                break\n",
        "        else:\n",
        "            print(\"Player O wins!\")\n",
        "            break\n",
        "\n",
        "        if not IsWinner(board, 'X'):\n",
        "            playerMove('X')\n",
        "            printBoard(board)\n",
        "            if IsWinner(board, 'X'):\n",
        "                print(\"Player X wins!\")\n",
        "                break\n",
        "        else:\n",
        "            print(\"Player X wins!\")\n",
        "            break\n",
        "\n",
        "    if boardFull() and not IsWinner(board, 'O') and not IsWinner(board, 'X'):\n",
        "        print(\"It's a tie!\")\n",
        "\n"
      ],
      "metadata": {
        "id": "M_KTrInTKqpo"
      },
      "execution_count": null,
      "outputs": []
    },
    {
      "cell_type": "code",
      "source": [
        "if __name__ == \"__main__\":\n",
        "    main()"
      ],
      "metadata": {
        "colab": {
          "base_uri": "https://localhost:8080/",
          "height": 1000
        },
        "id": "7Y5oG79tLu9w",
        "outputId": "cd82f970-e632-4cb3-e661-78deb663d027"
      },
      "execution_count": null,
      "outputs": [
        {
          "output_type": "stream",
          "name": "stdout",
          "text": [
            "Welcome to Tic-Tac-Toe!\n",
            "   |   | \n",
            "   |   |  \n",
            "   |   | \n",
            "------------\n",
            "   |   | \n",
            "   |   |  \n",
            "   |   | \n",
            "------------\n",
            "   |   | \n",
            "   |   |  \n",
            "   |   | \n",
            "please select a position to enter the O between 1 to 91\n",
            "   |   | \n",
            " O |   |  \n",
            "   |   | \n",
            "------------\n",
            "   |   | \n",
            "   |   |  \n",
            "   |   | \n",
            "------------\n",
            "   |   | \n",
            "   |   |  \n",
            "   |   | \n",
            "please select a position to enter the X between 1 to 94\n",
            "   |   | \n",
            " O |   |  \n",
            "   |   | \n",
            "------------\n",
            "   |   | \n",
            " X |   |  \n",
            "   |   | \n",
            "------------\n",
            "   |   | \n",
            "   |   |  \n",
            "   |   | \n",
            "please select a position to enter the O between 1 to 92\n",
            "   |   | \n",
            " O | O |  \n",
            "   |   | \n",
            "------------\n",
            "   |   | \n",
            " X |   |  \n",
            "   |   | \n",
            "------------\n",
            "   |   | \n",
            "   |   |  \n",
            "   |   | \n",
            "please select a position to enter the X between 1 to 95\n",
            "   |   | \n",
            " O | O |  \n",
            "   |   | \n",
            "------------\n",
            "   |   | \n",
            " X | X |  \n",
            "   |   | \n",
            "------------\n",
            "   |   | \n",
            "   |   |  \n",
            "   |   | \n",
            "please select a position to enter the O between 1 to 93\n",
            "   |   | \n",
            " O | O | O\n",
            "   |   | \n",
            "------------\n",
            "   |   | \n",
            " X | X |  \n",
            "   |   | \n",
            "------------\n",
            "   |   | \n",
            "   |   |  \n",
            "   |   | \n",
            "please select a position to enter the X between 1 to 91\n",
            "Sorry, this space is occupied\n",
            "please select a position to enter the X between 1 to 96\n",
            "   |   | \n",
            " O | O | O\n",
            "   |   | \n",
            "------------\n",
            "   |   | \n",
            " X | X | X\n",
            "   |   | \n",
            "------------\n",
            "   |   | \n",
            "   |   |  \n",
            "   |   | \n"
          ]
        },
        {
          "output_type": "error",
          "ename": "KeyboardInterrupt",
          "evalue": "Interrupted by user",
          "traceback": [
            "\u001b[0;31m---------------------------------------------------------------------------\u001b[0m",
            "\u001b[0;31mKeyboardInterrupt\u001b[0m                         Traceback (most recent call last)",
            "\u001b[0;32m<ipython-input-13-972361fa1b80>\u001b[0m in \u001b[0;36m<cell line: 1>\u001b[0;34m()\u001b[0m\n\u001b[1;32m      1\u001b[0m \u001b[0;32mif\u001b[0m \u001b[0m__name__\u001b[0m \u001b[0;34m==\u001b[0m \u001b[0;34m\"__main__\"\u001b[0m\u001b[0;34m:\u001b[0m\u001b[0;34m\u001b[0m\u001b[0;34m\u001b[0m\u001b[0m\n\u001b[0;32m----> 2\u001b[0;31m     \u001b[0mmain\u001b[0m\u001b[0;34m(\u001b[0m\u001b[0;34m)\u001b[0m\u001b[0;34m\u001b[0m\u001b[0;34m\u001b[0m\u001b[0m\n\u001b[0m",
            "\u001b[0;32m<ipython-input-12-92496564cc48>\u001b[0m in \u001b[0;36mmain\u001b[0;34m()\u001b[0m\n\u001b[1;32m      5\u001b[0m     \u001b[0;32mwhile\u001b[0m \u001b[0;32mnot\u001b[0m \u001b[0mboardFull\u001b[0m\u001b[0;34m(\u001b[0m\u001b[0;34m)\u001b[0m\u001b[0;34m:\u001b[0m\u001b[0;34m\u001b[0m\u001b[0;34m\u001b[0m\u001b[0m\n\u001b[1;32m      6\u001b[0m         \u001b[0;32mif\u001b[0m \u001b[0;32mnot\u001b[0m \u001b[0mIsWinner\u001b[0m\u001b[0;34m(\u001b[0m\u001b[0mboard\u001b[0m\u001b[0;34m,\u001b[0m \u001b[0;34m'O'\u001b[0m\u001b[0;34m)\u001b[0m\u001b[0;34m:\u001b[0m\u001b[0;34m\u001b[0m\u001b[0;34m\u001b[0m\u001b[0m\n\u001b[0;32m----> 7\u001b[0;31m             \u001b[0mplayerMove\u001b[0m\u001b[0;34m(\u001b[0m\u001b[0;34m'O'\u001b[0m\u001b[0;34m)\u001b[0m\u001b[0;34m\u001b[0m\u001b[0;34m\u001b[0m\u001b[0m\n\u001b[0m\u001b[1;32m      8\u001b[0m             \u001b[0mprintBoard\u001b[0m\u001b[0;34m(\u001b[0m\u001b[0mboard\u001b[0m\u001b[0;34m)\u001b[0m\u001b[0;34m\u001b[0m\u001b[0;34m\u001b[0m\u001b[0m\n\u001b[1;32m      9\u001b[0m             \u001b[0;32mif\u001b[0m \u001b[0mIsWinner\u001b[0m\u001b[0;34m(\u001b[0m\u001b[0mboard\u001b[0m\u001b[0;34m,\u001b[0m \u001b[0;34m'O'\u001b[0m\u001b[0;34m)\u001b[0m\u001b[0;34m:\u001b[0m\u001b[0;34m\u001b[0m\u001b[0;34m\u001b[0m\u001b[0m\n",
            "\u001b[0;32m<ipython-input-7-b2ef8dae6ac5>\u001b[0m in \u001b[0;36mplayerMove\u001b[0;34m(symbol)\u001b[0m\n\u001b[1;32m      2\u001b[0m   \u001b[0mrun\u001b[0m \u001b[0;34m=\u001b[0m \u001b[0;32mTrue\u001b[0m\u001b[0;34m\u001b[0m\u001b[0;34m\u001b[0m\u001b[0m\n\u001b[1;32m      3\u001b[0m   \u001b[0;32mwhile\u001b[0m \u001b[0mrun\u001b[0m\u001b[0;34m:\u001b[0m\u001b[0;34m\u001b[0m\u001b[0;34m\u001b[0m\u001b[0m\n\u001b[0;32m----> 4\u001b[0;31m     move = input(\"please select a position to enter the {sym} between 1 to 9\".\n\u001b[0m\u001b[1;32m      5\u001b[0m     format(sym=symbol))\n\u001b[1;32m      6\u001b[0m     \u001b[0;32mtry\u001b[0m\u001b[0;34m:\u001b[0m\u001b[0;34m\u001b[0m\u001b[0;34m\u001b[0m\u001b[0m\n",
            "\u001b[0;32m/usr/local/lib/python3.10/dist-packages/ipykernel/kernelbase.py\u001b[0m in \u001b[0;36mraw_input\u001b[0;34m(self, prompt)\u001b[0m\n\u001b[1;32m    849\u001b[0m                 \u001b[0;34m\"raw_input was called, but this frontend does not support input requests.\"\u001b[0m\u001b[0;34m\u001b[0m\u001b[0;34m\u001b[0m\u001b[0m\n\u001b[1;32m    850\u001b[0m             )\n\u001b[0;32m--> 851\u001b[0;31m         return self._input_request(str(prompt),\n\u001b[0m\u001b[1;32m    852\u001b[0m             \u001b[0mself\u001b[0m\u001b[0;34m.\u001b[0m\u001b[0m_parent_ident\u001b[0m\u001b[0;34m,\u001b[0m\u001b[0;34m\u001b[0m\u001b[0;34m\u001b[0m\u001b[0m\n\u001b[1;32m    853\u001b[0m             \u001b[0mself\u001b[0m\u001b[0;34m.\u001b[0m\u001b[0m_parent_header\u001b[0m\u001b[0;34m,\u001b[0m\u001b[0;34m\u001b[0m\u001b[0;34m\u001b[0m\u001b[0m\n",
            "\u001b[0;32m/usr/local/lib/python3.10/dist-packages/ipykernel/kernelbase.py\u001b[0m in \u001b[0;36m_input_request\u001b[0;34m(self, prompt, ident, parent, password)\u001b[0m\n\u001b[1;32m    893\u001b[0m             \u001b[0;32mexcept\u001b[0m \u001b[0mKeyboardInterrupt\u001b[0m\u001b[0;34m:\u001b[0m\u001b[0;34m\u001b[0m\u001b[0;34m\u001b[0m\u001b[0m\n\u001b[1;32m    894\u001b[0m                 \u001b[0;31m# re-raise KeyboardInterrupt, to truncate traceback\u001b[0m\u001b[0;34m\u001b[0m\u001b[0;34m\u001b[0m\u001b[0m\n\u001b[0;32m--> 895\u001b[0;31m                 \u001b[0;32mraise\u001b[0m \u001b[0mKeyboardInterrupt\u001b[0m\u001b[0;34m(\u001b[0m\u001b[0;34m\"Interrupted by user\"\u001b[0m\u001b[0;34m)\u001b[0m \u001b[0;32mfrom\u001b[0m \u001b[0;32mNone\u001b[0m\u001b[0;34m\u001b[0m\u001b[0;34m\u001b[0m\u001b[0m\n\u001b[0m\u001b[1;32m    896\u001b[0m             \u001b[0;32mexcept\u001b[0m \u001b[0mException\u001b[0m \u001b[0;32mas\u001b[0m \u001b[0me\u001b[0m\u001b[0;34m:\u001b[0m\u001b[0;34m\u001b[0m\u001b[0;34m\u001b[0m\u001b[0m\n\u001b[1;32m    897\u001b[0m                 \u001b[0mself\u001b[0m\u001b[0;34m.\u001b[0m\u001b[0mlog\u001b[0m\u001b[0;34m.\u001b[0m\u001b[0mwarning\u001b[0m\u001b[0;34m(\u001b[0m\u001b[0;34m\"Invalid Message:\"\u001b[0m\u001b[0;34m,\u001b[0m \u001b[0mexc_info\u001b[0m\u001b[0;34m=\u001b[0m\u001b[0;32mTrue\u001b[0m\u001b[0;34m)\u001b[0m\u001b[0;34m\u001b[0m\u001b[0;34m\u001b[0m\u001b[0m\n",
            "\u001b[0;31mKeyboardInterrupt\u001b[0m: Interrupted by user"
          ]
        }
      ]
    }
  ]
}