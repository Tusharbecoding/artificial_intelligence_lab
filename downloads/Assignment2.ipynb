{
  "nbformat": 4,
  "nbformat_minor": 0,
  "metadata": {
    "colab": {
      "provenance": []
    },
    "kernelspec": {
      "name": "python3",
      "display_name": "Python 3"
    },
    "language_info": {
      "name": "python"
    }
  },
  "cells": [
    {
      "cell_type": "code",
      "execution_count": 8,
      "metadata": {
        "colab": {
          "base_uri": "https://localhost:8080/"
        },
        "id": "AKVavZPUKeGl",
        "outputId": "8ad14de8-0eff-4f59-b50e-008f88a1b159"
      },
      "outputs": [
        {
          "output_type": "stream",
          "name": "stdout",
          "text": [
            "Step 1: Fill jug(4)=4, Fill jug(3)=0\n",
            "Step 2: Transfer from jug(4) to jug(3). Jug(4)=1, Jug(3)=3\n",
            "Step 3: Empty jug(3). Jug(4)=1, Jug(3)=0\n",
            "Step 4: Transfer from jug(4) to jug(3). Jug(4)=0, Jug(3)=1\n",
            "Step 5: Fill jug(4)=4, Fill jug(3)=1\n",
            "Step 6: Transfer from jug(4) to jug(3). Jug(4)=2, Jug(3)=3\n",
            "Final volume in jug_4: 2 litres\n"
          ]
        }
      ],
      "source": [
        "#Answer 1\n",
        "class Jug:\n",
        "  def __init__(self, capacity):\n",
        "    self.capacity = capacity\n",
        "    self.current_volume = 0\n",
        "\n",
        "  def fill(self):\n",
        "    self.current_volume = self.capacity\n",
        "\n",
        "  def empty(self):\n",
        "    self.current_volume = 0\n",
        "\n",
        "  def transfer_water(self, other_jug):\n",
        "    if self.current_volume <= other_jug.capacity - other_jug.current_volume:\n",
        "      transferred_volume = self.current_volume\n",
        "    else:\n",
        "      transferred_volume = other_jug.capacity - other_jug.current_volume\n",
        "    self.current_volume -= transferred_volume\n",
        "    other_jug.current_volume += transferred_volume\n",
        "\n",
        "def water_transfer_logic():\n",
        "  jug_4 = Jug(4)\n",
        "  jug_3 = Jug(3)\n",
        "  steps = []\n",
        "\n",
        "  jug_4.fill()\n",
        "  steps.append(f\"Step 1: Fill jug(4)={jug_4.current_volume}, Fill jug(3)={jug_3.current_volume}\")\n",
        "  jug_4.transfer_water(jug_3)\n",
        "  steps.append(f\"Step 2: Transfer from jug(4) to jug(3). Jug(4)={jug_4.current_volume}, Jug(3)={jug_3.current_volume}\")\n",
        "  jug_3.empty()\n",
        "  steps.append(f\"Step 3: Empty jug(3). Jug(4)={jug_4.current_volume}, Jug(3)={jug_3.current_volume}\")\n",
        "  jug_4.transfer_water(jug_3)\n",
        "  steps.append(f\"Step 4: Transfer from jug(4) to jug(3). Jug(4)={jug_4.current_volume}, Jug(3)={jug_3.current_volume}\")\n",
        "  jug_4.fill()\n",
        "  steps.append(f\"Step 5: Fill jug(4)={jug_4.current_volume}, Fill jug(3)={jug_3.current_volume}\")\n",
        "  jug_4.transfer_water(jug_3)\n",
        "  steps.append(f\"Step 6: Transfer from jug(4) to jug(3). Jug(4)={jug_4.current_volume}, Jug(3)={jug_3.current_volume}\")\n",
        "\n",
        "  return jug_4.current_volume, steps\n",
        "\n",
        "result, steps = water_transfer_logic()\n",
        "\n",
        "for step in steps:\n",
        "    print(step)\n",
        "\n",
        "print(f\"Final volume in jug_4: {result} litres\")"
      ]
    },
    {
      "cell_type": "code",
      "source": [
        "\n",
        "from queue import Queue\n",
        "\n",
        "class PuzzleSolver:\n",
        "    def __init__(self, initial_state):\n",
        "        self.initial_state = initial_state\n",
        "        self.goal_state = [1, 2, 3, 8, 0, 4, 7, 6, 5]\n",
        "        self.queue = Queue()\n",
        "        self.queue.put((self.initial_state, []))\n",
        "\n",
        "    def solve_puzzle(self):\n",
        "        while not self.queue.empty():\n",
        "            current_state, path = self.queue.get()\n",
        "\n",
        "            if current_state == self.goal_state:\n",
        "                return path\n",
        "\n",
        "            zero_index = current_state.index(0)\n",
        "\n",
        "            possible_moves = []\n",
        "            if zero_index % 3 > 0:\n",
        "                possible_moves.append(zero_index - 1)\n",
        "            if zero_index % 3 < 2:\n",
        "                possible_moves.append(zero_index + 1)\n",
        "            if zero_index // 3 > 0:\n",
        "                possible_moves.append(zero_index - 3)\n",
        "            if zero_index // 3 < 2:\n",
        "                possible_moves.append(zero_index + 3)\n",
        "\n",
        "            for move in possible_moves:\n",
        "                new_state = current_state.copy()\n",
        "                new_state[zero_index], new_state[move] = new_state[move], new_state[zero_index]\n",
        "                new_path = path + [move]\n",
        "                self.queue.put((new_state, new_path))\n",
        "\n",
        "        return None\n",
        "\n",
        "# Example usage:\n",
        "initial_state = [2, 8, 1, 0, 4, 3, 7, 6, 5]  # Replace with your initial state\n",
        "solver = PuzzleSolver(initial_state)\n",
        "solution = solver.solve_puzzle()\n",
        "\n",
        "if solution:\n",
        "    print(\"Solution found!\")\n",
        "    print(\"Path:\", solution)\n",
        "else:\n",
        "    print(\"No solution found.\")"
      ],
      "metadata": {
        "colab": {
          "base_uri": "https://localhost:8080/"
        },
        "id": "rtuvRhA5T3Ga",
        "outputId": "fed35860-88d3-41f1-8aa8-bcf702d2e2e1"
      },
      "execution_count": 11,
      "outputs": [
        {
          "output_type": "stream",
          "name": "stdout",
          "text": [
            "Solution found!\n",
            "Path: [0, 1, 2, 5, 4, 3, 0, 1, 4]\n"
          ]
        }
      ]
    }
  ]
}