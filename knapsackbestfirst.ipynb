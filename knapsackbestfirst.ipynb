{
 "cells": [
  {
   "cell_type": "code",
   "execution_count": 4,
   "metadata": {},
   "outputs": [
    {
     "ename": "TypeError",
     "evalue": "'NoneType' object is not iterable",
     "output_type": "error",
     "traceback": [
      "\u001b[0;31m---------------------------------------------------------------------------\u001b[0m",
      "\u001b[0;31mTypeError\u001b[0m                                 Traceback (most recent call last)",
      "Cell \u001b[0;32mIn[4], line 67\u001b[0m\n\u001b[1;32m     64\u001b[0m capacity \u001b[38;5;241m=\u001b[39m \u001b[38;5;241m10\u001b[39m\n\u001b[1;32m     65\u001b[0m items \u001b[38;5;241m=\u001b[39m [(\u001b[38;5;241m5\u001b[39m, \u001b[38;5;241m10\u001b[39m), (\u001b[38;5;241m4\u001b[39m, \u001b[38;5;241m40\u001b[39m), (\u001b[38;5;241m6\u001b[39m, \u001b[38;5;241m30\u001b[39m), (\u001b[38;5;241m3\u001b[39m, \u001b[38;5;241m50\u001b[39m)]\n\u001b[0;32m---> 67\u001b[0m solution_state \u001b[38;5;241m=\u001b[39m \u001b[43mKnapsackSearch\u001b[49m\u001b[43m(\u001b[49m\u001b[43m)\u001b[49m\u001b[38;5;241;43m.\u001b[39;49m\u001b[43mbest_first_search\u001b[49m\u001b[43m(\u001b[49m\u001b[43mcapacity\u001b[49m\u001b[43m,\u001b[49m\u001b[43m \u001b[49m\u001b[43mitems\u001b[49m\u001b[43m)\u001b[49m\n\u001b[1;32m     68\u001b[0m total_weight \u001b[38;5;241m=\u001b[39m \u001b[38;5;28msum\u001b[39m(solution_state[i] \u001b[38;5;241m*\u001b[39m items[i][\u001b[38;5;241m0\u001b[39m] \u001b[38;5;28;01mfor\u001b[39;00m i \u001b[38;5;129;01min\u001b[39;00m \u001b[38;5;28mrange\u001b[39m(\u001b[38;5;28mlen\u001b[39m(solution_state)))\n\u001b[1;32m     69\u001b[0m total_value \u001b[38;5;241m=\u001b[39m \u001b[38;5;28msum\u001b[39m(solution_state[i] \u001b[38;5;241m*\u001b[39m items[i][\u001b[38;5;241m1\u001b[39m] \u001b[38;5;28;01mfor\u001b[39;00m i \u001b[38;5;129;01min\u001b[39;00m \u001b[38;5;28mrange\u001b[39m(\u001b[38;5;28mlen\u001b[39m(solution_state)))\n",
      "Cell \u001b[0;32mIn[4], line 55\u001b[0m, in \u001b[0;36mKnapsackSearch.best_first_search\u001b[0;34m(self, capacity, items)\u001b[0m\n\u001b[1;32m     52\u001b[0m \u001b[38;5;28;01mwhile\u001b[39;00m \u001b[38;5;129;01mnot\u001b[39;00m priority_queue\u001b[38;5;241m.\u001b[39mempty():\n\u001b[1;32m     53\u001b[0m     current_node \u001b[38;5;241m=\u001b[39m priority_queue\u001b[38;5;241m.\u001b[39mget()\n\u001b[0;32m---> 55\u001b[0m     \u001b[38;5;28;01mif\u001b[39;00m current_node\u001b[38;5;241m.\u001b[39mparent \u001b[38;5;129;01mis\u001b[39;00m \u001b[38;5;129;01mnot\u001b[39;00m \u001b[38;5;28;01mNone\u001b[39;00m \u001b[38;5;129;01mand\u001b[39;00m \u001b[38;5;28msum\u001b[39m(current_node\u001b[38;5;241m.\u001b[39mparent) \u001b[38;5;241m==\u001b[39m \u001b[38;5;28;43msum\u001b[39;49m\u001b[43m(\u001b[49m\u001b[43minitial_state\u001b[49m\u001b[43m)\u001b[49m:\n\u001b[1;32m     56\u001b[0m         \u001b[38;5;28;01mreturn\u001b[39;00m current_node\u001b[38;5;241m.\u001b[39mparent\n\u001b[1;32m     58\u001b[0m     \u001b[38;5;28;01mfor\u001b[39;00m neighbor \u001b[38;5;129;01min\u001b[39;00m knapsack\u001b[38;5;241m.\u001b[39mgenerate_next_states(current_node\u001b[38;5;241m.\u001b[39mparent):\n",
      "\u001b[0;31mTypeError\u001b[0m: 'NoneType' object is not iterable"
     ]
    }
   ],
   "source": [
    "from queue import PriorityQueue\n",
    "\n",
    "class KnapsackNode:\n",
    "    def __init__(self, weight, value, parent=None, action=0):\n",
    "        self.weight = weight\n",
    "        self.value = value\n",
    "        self.parent = parent\n",
    "        self.action = action\n",
    "\n",
    "    def __lt__(self, other):\n",
    "        # Compare nodes based on their value\n",
    "        return self.value > other.value\n",
    "\n",
    "class Knapsack:\n",
    "    def __init__(self, capacity, items):\n",
    "        self.capacity = capacity\n",
    "        self.items = items\n",
    "\n",
    "    def is_valid(self, node):\n",
    "        if node is None:\n",
    "            return True\n",
    "        # Check if adding the item to the knapsack violates capacity\n",
    "        total_weight = sum(node[action] * item[0] for action, item in enumerate(self.items))\n",
    "        return total_weight <= self.capacity\n",
    "\n",
    "    def generate_next_states(self, node):\n",
    "        # Generate neighboring states by adding one more item\n",
    "        if node is None:\n",
    "            initial_state = [0] * len(self.items)\n",
    "        else:\n",
    "            initial_state = node\n",
    "        next_states = []\n",
    "        for action in range(len(initial_state)):\n",
    "            if initial_state[action] == 0:\n",
    "                new_state = list(initial_state)\n",
    "                new_state[action] = 1\n",
    "                if self.is_valid(new_state):\n",
    "                    weight = sum(new_state[i] * item[0] for i, item in enumerate(self.items))\n",
    "                    value = sum(new_state[i] * item[1] for i, item in enumerate(self.items))\n",
    "                    next_states.append(KnapsackNode(weight, value, new_state, action))\n",
    "        return next_states\n",
    "\n",
    "class KnapsackSearch:\n",
    "\n",
    "    def best_first_search(self, capacity, items):\n",
    "        knapsack = Knapsack(capacity, items)\n",
    "        initial_state = None\n",
    "\n",
    "        priority_queue = PriorityQueue()\n",
    "        priority_queue.put(KnapsackNode(0, 0, initial_state, 0))\n",
    "\n",
    "        while not priority_queue.empty():\n",
    "            current_node = priority_queue.get()\n",
    "\n",
    "            if current_node.parent is not None and sum(current_node.parent) == sum(initial_state):\n",
    "                return current_node.parent\n",
    "\n",
    "            for neighbor in knapsack.generate_next_states(current_node.parent):\n",
    "                priority_queue.put(neighbor)\n",
    "\n",
    "        return None\n",
    "\n",
    "# Example usage\n",
    "capacity = 10\n",
    "items = [(5, 10), (4, 40), (6, 30), (3, 50)]\n",
    "\n",
    "solution_state = KnapsackSearch().best_first_search(capacity, items)\n",
    "total_weight = sum(solution_state[i] * items[i][0] for i in range(len(solution_state)))\n",
    "total_value = sum(solution_state[i] * items[i][1] for i in range(len(solution_state)))\n",
    "\n",
    "print(\"Solution State:\", solution_state)\n",
    "print(\"Total Weight:\", total_weight)\n",
    "print(\"Total Value:\", total_value)\n"
   ]
  }
 ],
 "metadata": {
  "kernelspec": {
   "display_name": "Python 3",
   "language": "python",
   "name": "python3"
  },
  "language_info": {
   "codemirror_mode": {
    "name": "ipython",
    "version": 3
   },
   "file_extension": ".py",
   "mimetype": "text/x-python",
   "name": "python",
   "nbconvert_exporter": "python",
   "pygments_lexer": "ipython3",
   "version": "3.11.4"
  }
 },
 "nbformat": 4,
 "nbformat_minor": 2
}
