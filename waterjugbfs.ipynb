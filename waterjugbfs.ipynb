{
 "cells": [
  {
   "cell_type": "code",
   "execution_count": 6,
   "metadata": {},
   "outputs": [
    {
     "name": "stdout",
     "output_type": "stream",
     "text": [
      "No solution found.\n"
     ]
    }
   ],
   "source": [
    "from collections import deque\n",
    "\n",
    "class State:\n",
    "    def __init__(self, jug_4, jug_3):\n",
    "        self.jug_4 = jug_4\n",
    "        self.jug_3 = jug_3\n",
    "\n",
    "    def __eq__(self, other):\n",
    "        return self.jug_4 == other.jug_4 and self.jug_3 == other.jug_3\n",
    "\n",
    "    def __hash__(self):\n",
    "        return hash((self.jug_4, self.jug_3))\n",
    "\n",
    "    def __str__(self):\n",
    "        return f\"({self.jug_4}, {self.jug_3})\"\n",
    "\n",
    "def pour(state, from_jug, to_jug, max_to_jug):\n",
    "    amount_to_pour = min(getattr(state, from_jug), max_to_jug - getattr(state, to_jug))\n",
    "    new_state = State(state.jug_4, state.jug_3)\n",
    "    setattr(new_state, from_jug, getattr(state, from_jug) - amount_to_pour)\n",
    "    setattr(new_state, to_jug, getattr(state, to_jug) + amount_to_pour)\n",
    "    return new_state\n",
    "\n",
    "def is_goal_state(state):\n",
    "    return state.jug_4 == 2\n",
    "\n",
    "def bfs():\n",
    "    initial_state = State(0, 0)\n",
    "    visited = set()\n",
    "    queue = deque()\n",
    "    queue.append((initial_state, []))\n",
    "\n",
    "    while queue:\n",
    "        current_state, path = queue.popleft()\n",
    "        visited.add(current_state)\n",
    "\n",
    "        if is_goal_state(current_state):\n",
    "            return path\n",
    "\n",
    "        # Generate all possible pouring combinations\n",
    "        pour_combinations = [\n",
    "            ('jug_4', 'jug_3'),\n",
    "            ('jug_3', 'jug_4'),\n",
    "            ('jug_4', 'jug_3'),\n",
    "            ('jug_3', 'jug_4'),\n",
    "            ('jug_4', 'jug_3'),\n",
    "            ('jug_3', 'jug_4')\n",
    "        ]\n",
    "\n",
    "        for from_jug, to_jug in pour_combinations:\n",
    "            next_state = pour(current_state, from_jug, to_jug, 3 if to_jug == 'jug_3' else 4)\n",
    "            if next_state not in visited:\n",
    "                queue.append((next_state, path + [next_state]))\n",
    "\n",
    "    return None\n",
    "\n",
    "solution_path = bfs()\n",
    "if solution_path:\n",
    "    print(\"Solution Path:\")\n",
    "    for i, state in enumerate(solution_path):\n",
    "        print(f\"Step {i + 1}: {state}\")\n",
    "else:\n",
    "    print(\"No solution found.\")\n"
   ]
  }
 ],
 "metadata": {
  "kernelspec": {
   "display_name": "Python 3",
   "language": "python",
   "name": "python3"
  },
  "language_info": {
   "codemirror_mode": {
    "name": "ipython",
    "version": 3
   },
   "file_extension": ".py",
   "mimetype": "text/x-python",
   "name": "python",
   "nbconvert_exporter": "python",
   "pygments_lexer": "ipython3",
   "version": "3.11.4"
  }
 },
 "nbformat": 4,
 "nbformat_minor": 2
}
